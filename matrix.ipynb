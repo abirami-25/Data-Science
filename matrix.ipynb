{
 "cells": [
  {
   "cell_type": "code",
   "execution_count": 3,
   "id": "396094fa",
   "metadata": {},
   "outputs": [
    {
     "name": "stdout",
     "output_type": "stream",
     "text": [
      "Addition of two matrices : \n",
      "[[14 24  9]\n",
      " [ 8 48  8]\n",
      " [36  8  8]]\n",
      "Subtraction of two matrices : \n",
      "[[  0 -20  -1]\n",
      " [ -2 -40   2]\n",
      " [ 30   4   6]]\n",
      "Multiplication of two matrices : \n",
      "[[ 49  44  20]\n",
      " [ 15 176  15]\n",
      " [ 99  12   7]]\n",
      "Division of two matrices : \n",
      "[[ 1.          0.09090909  0.8       ]\n",
      " [ 0.6         0.09090909  1.66666667]\n",
      " [11.          3.          7.        ]]\n",
      "Product of two matrices : \n",
      "[[  71  250   45]\n",
      " [  56  252   32]\n",
      " [ 282 1004  190]]\n",
      "Square root of a matrix : \n",
      "[[2.64575131 1.41421356 2.        ]\n",
      " [1.73205081 2.         2.23606798]\n",
      " [5.74456265 2.44948974 2.64575131]]\n",
      "Summation of column wise elements: \n",
      "[15 68  9]\n",
      "Summation of row wise matrix : \n",
      "[34 52  6]\n",
      "Transpose of matrix : \n",
      "[[ 7  3 33]\n",
      " [ 2  4  6]\n",
      " [ 4  5  7]]\n"
     ]
    }
   ],
   "source": [
    "#Python program to perform all matrix operations using numpy\n",
    "import numpy as np\n",
    "x=np.array([[7,2,4],[3,4,5],[33,6,7]])\n",
    "y=np.array([[7,22,5],[5,44,3],[3,2,1]])\n",
    "print(\"Addition of two matrices : \")\n",
    "print(np.add(x,y))\n",
    "print(\"Subtraction of two matrices : \")\n",
    "print(np.subtract(x,y))\n",
    "print(\"Multiplication of two matrices : \")\n",
    "print(np.multiply(x,y))\n",
    "print(\"Division of two matrices : \")\n",
    "print(np.divide(x,y))\n",
    "print(\"Product of two matrices : \")\n",
    "print(np.dot(x,y))\n",
    "print(\"Square root of a matrix : \")\n",
    "print(np.sqrt(x))\n",
    "print(\"Summation of column wise elements: \")\n",
    "print(np.sum(y,axis=0))\n",
    "print(\"Summation of row wise matrix : \")\n",
    "print(np.sum(y,axis=1))\n",
    "print(\"Transpose of matrix : \")\n",
    "print(x.T)"
   ]
  },
  {
   "cell_type": "code",
   "execution_count": 4,
   "id": "19f9ff41",
   "metadata": {},
   "outputs": [
    {
     "name": "stdout",
     "output_type": "stream",
     "text": [
      "[[ 1  2]\n",
      " [ 3  4]\n",
      " [ 5  6]\n",
      " [10  8]]\n",
      "[[-0.13229621 -0.42605967 -0.48115926 -0.75462351]\n",
      " [-0.31048578 -0.47327257 -0.51061143  0.64721528]\n",
      " [-0.48867536 -0.52048548  0.6971847  -0.06499811]\n",
      " [-0.80454502  0.56884189 -0.14729299 -0.08620317]]\n",
      "[15.86589447  1.80925193]\n",
      "[[-0.72813925 -0.68542923]\n",
      " [ 0.68542923 -0.72813925]]\n"
     ]
    }
   ],
   "source": [
    "#Perform SVD (Singular Value Decomposition using python)\n",
    "from numpy import array\n",
    "from scipy.linalg import svd\n",
    "A=array([[1,2],[3,4],[5,6],[10,8]])\n",
    "print(A)\n",
    "U,s,VT=svd(A)\n",
    "print(U)\n",
    "print(s)\n",
    "print(VT)"
   ]
  }
 ],
 "metadata": {
  "kernelspec": {
   "display_name": "Python 3 (ipykernel)",
   "language": "python",
   "name": "python3"
  },
  "language_info": {
   "codemirror_mode": {
    "name": "ipython",
    "version": 3
   },
   "file_extension": ".py",
   "mimetype": "text/x-python",
   "name": "python",
   "nbconvert_exporter": "python",
   "pygments_lexer": "ipython3",
   "version": "3.9.12"
  }
 },
 "nbformat": 4,
 "nbformat_minor": 5
}
