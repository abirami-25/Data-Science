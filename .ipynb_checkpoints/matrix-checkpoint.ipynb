{
 "cells": [
  {
   "cell_type": "code",
   "execution_count": null,
   "id": "396094fa",
   "metadata": {},
   "outputs": [],
   "source": [
    "import numpy as np\n",
    "x=np.array([[7,2,4],[3,4,5],[33,6,7]])\n",
    "y=np.array([[7,22,5],[5,44,3],[3,2,1]])\n",
    "print(\"Addition of two matrices : \")\n",
    "print(np.add(x,y))\n",
    "print(\"Subtraction of two matrices : \")\n",
    "print(np.subtract(x,y))\n",
    "print(\"Multiplication of two matrices : \")\n",
    "print(np.multiply(x,y))\n",
    "print(\"Division of two matrices : \")\n",
    "print(np.divide(x,y))\n",
    "print(\"Product of two matrices : \")\n",
    "print(np.dot(x,y))\n",
    "print(\"Square root of a matrix : \")\n",
    "print(np.sqrt(x))\n",
    "print(\"Summation of column wise elements: \")\n",
    "print(np.sum(y,axis=0))\n",
    "print(\"Summation of row wise matrix : \")\n",
    "print(np.sum(y,axis=1))\n",
    "print(\"Transpose of matrix : \")\n",
    "print(x.T)"
   ]
  }
 ],
 "metadata": {
  "kernelspec": {
   "display_name": "Python 3 (ipykernel)",
   "language": "python",
   "name": "python3"
  },
  "language_info": {
   "codemirror_mode": {
    "name": "ipython",
    "version": 3
   },
   "file_extension": ".py",
   "mimetype": "text/x-python",
   "name": "python",
   "nbconvert_exporter": "python",
   "pygments_lexer": "ipython3",
   "version": "3.9.12"
  }
 },
 "nbformat": 4,
 "nbformat_minor": 5
}
